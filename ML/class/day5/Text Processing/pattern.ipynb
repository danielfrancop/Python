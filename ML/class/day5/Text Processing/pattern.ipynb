{
 "cells": [
  {
   "cell_type": "code",
   "execution_count": null,
   "metadata": {},
   "outputs": [],
   "source": [
    "# https://github.com/clips/pattern\n",
    "!pip install pattern"
   ]
  },
  {
   "cell_type": "code",
   "execution_count": null,
   "metadata": {},
   "outputs": [],
   "source": [
    "from pattern.web import Twitter\n",
    "from pattern.en import tag\n",
    "from pattern.vector import KNN, count\n",
    "\n",
    "twitter, knn = Twitter(), KNN()\n",
    "\n",
    "for i in range(1, 3):\n",
    "    for tweet in twitter.search('#win OR #fail', start=i, count=100):\n",
    "        s = tweet.text.lower()\n",
    "        p = '#win' in s and 'WIN' or 'FAIL'\n",
    "        v = tag(s)\n",
    "        v = [word for word, pos in v if pos == 'JJ'] # JJ = adjective\n",
    "        v = count(v) # {'sweet': 1}\n",
    "        if v:\n",
    "            knn.train(v, type=p)\n",
    "\n",
    "print(knn.classify('sweet potato burger'))\n",
    "print(knn.classify('stupid autocorrect'))"
   ]
  },
  {
   "cell_type": "code",
   "execution_count": null,
   "metadata": {},
   "outputs": [],
   "source": []
  }
 ],
 "metadata": {
  "kernelspec": {
   "display_name": "Python 3",
   "language": "python",
   "name": "python3"
  },
  "language_info": {
   "codemirror_mode": {
    "name": "ipython",
    "version": 3
   },
   "file_extension": ".py",
   "mimetype": "text/x-python",
   "name": "python",
   "nbconvert_exporter": "python",
   "pygments_lexer": "ipython3",
   "version": "3.6.4"
  }
 },
 "nbformat": 4,
 "nbformat_minor": 2
}
