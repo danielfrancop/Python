{
 "cells": [
  {
   "cell_type": "code",
   "execution_count": 1,
   "metadata": {},
   "outputs": [],
   "source": [
    "import pandas as pd"
   ]
  },
  {
   "cell_type": "markdown",
   "metadata": {},
   "source": [
    "Load the file mal_users.csv"
   ]
  },
  {
   "cell_type": "code",
   "execution_count": 2,
   "metadata": {},
   "outputs": [],
   "source": [
    "df = pd.read_csv(\"mal_users.csv\")"
   ]
  },
  {
   "cell_type": "markdown",
   "metadata": {},
   "source": [
    "Use head to see some data. Res is your target var"
   ]
  },
  {
   "cell_type": "code",
   "execution_count": 3,
   "metadata": {},
   "outputs": [
    {
     "data": {
      "text/html": [
       "<div>\n",
       "<style scoped>\n",
       "    .dataframe tbody tr th:only-of-type {\n",
       "        vertical-align: middle;\n",
       "    }\n",
       "\n",
       "    .dataframe tbody tr th {\n",
       "        vertical-align: top;\n",
       "    }\n",
       "\n",
       "    .dataframe thead th {\n",
       "        text-align: right;\n",
       "    }\n",
       "</style>\n",
       "<table border=\"1\" class=\"dataframe\">\n",
       "  <thead>\n",
       "    <tr style=\"text-align: right;\">\n",
       "      <th></th>\n",
       "      <th>A</th>\n",
       "      <th>B</th>\n",
       "      <th>C</th>\n",
       "      <th>D</th>\n",
       "      <th>E</th>\n",
       "      <th>F</th>\n",
       "      <th>G</th>\n",
       "      <th>H</th>\n",
       "      <th>I</th>\n",
       "      <th>J</th>\n",
       "      <th>K</th>\n",
       "      <th>L</th>\n",
       "      <th>M</th>\n",
       "      <th>N</th>\n",
       "      <th>O</th>\n",
       "      <th>P</th>\n",
       "      <th>Q</th>\n",
       "      <th>Res</th>\n",
       "    </tr>\n",
       "  </thead>\n",
       "  <tbody>\n",
       "    <tr>\n",
       "      <th>0</th>\n",
       "      <td>17.99</td>\n",
       "      <td>10.38</td>\n",
       "      <td>122.80</td>\n",
       "      <td>1001.0</td>\n",
       "      <td>0.11840</td>\n",
       "      <td>0.27760</td>\n",
       "      <td>0.3001</td>\n",
       "      <td>0.14710</td>\n",
       "      <td>0.2419</td>\n",
       "      <td>0.07871</td>\n",
       "      <td>1.0950</td>\n",
       "      <td>0.9053</td>\n",
       "      <td>8.589</td>\n",
       "      <td>153.40</td>\n",
       "      <td>0.2654</td>\n",
       "      <td>0.4601</td>\n",
       "      <td>0.11890</td>\n",
       "      <td>0</td>\n",
       "    </tr>\n",
       "    <tr>\n",
       "      <th>1</th>\n",
       "      <td>20.57</td>\n",
       "      <td>17.77</td>\n",
       "      <td>132.90</td>\n",
       "      <td>1326.0</td>\n",
       "      <td>0.08474</td>\n",
       "      <td>0.07864</td>\n",
       "      <td>0.0869</td>\n",
       "      <td>0.07017</td>\n",
       "      <td>0.1812</td>\n",
       "      <td>0.05667</td>\n",
       "      <td>0.5435</td>\n",
       "      <td>0.7339</td>\n",
       "      <td>3.398</td>\n",
       "      <td>74.08</td>\n",
       "      <td>0.1860</td>\n",
       "      <td>0.2750</td>\n",
       "      <td>0.08902</td>\n",
       "      <td>0</td>\n",
       "    </tr>\n",
       "    <tr>\n",
       "      <th>2</th>\n",
       "      <td>19.69</td>\n",
       "      <td>21.25</td>\n",
       "      <td>130.00</td>\n",
       "      <td>1203.0</td>\n",
       "      <td>0.10960</td>\n",
       "      <td>0.15990</td>\n",
       "      <td>0.1974</td>\n",
       "      <td>0.12790</td>\n",
       "      <td>0.2069</td>\n",
       "      <td>0.05999</td>\n",
       "      <td>0.7456</td>\n",
       "      <td>0.7869</td>\n",
       "      <td>4.585</td>\n",
       "      <td>94.03</td>\n",
       "      <td>0.2430</td>\n",
       "      <td>0.3613</td>\n",
       "      <td>0.08758</td>\n",
       "      <td>0</td>\n",
       "    </tr>\n",
       "    <tr>\n",
       "      <th>3</th>\n",
       "      <td>11.42</td>\n",
       "      <td>20.38</td>\n",
       "      <td>77.58</td>\n",
       "      <td>386.1</td>\n",
       "      <td>0.14250</td>\n",
       "      <td>0.28390</td>\n",
       "      <td>0.2414</td>\n",
       "      <td>0.10520</td>\n",
       "      <td>0.2597</td>\n",
       "      <td>0.09744</td>\n",
       "      <td>0.4956</td>\n",
       "      <td>1.1560</td>\n",
       "      <td>3.445</td>\n",
       "      <td>27.23</td>\n",
       "      <td>0.2575</td>\n",
       "      <td>0.6638</td>\n",
       "      <td>0.17300</td>\n",
       "      <td>0</td>\n",
       "    </tr>\n",
       "    <tr>\n",
       "      <th>4</th>\n",
       "      <td>20.29</td>\n",
       "      <td>14.34</td>\n",
       "      <td>135.10</td>\n",
       "      <td>1297.0</td>\n",
       "      <td>0.10030</td>\n",
       "      <td>0.13280</td>\n",
       "      <td>0.1980</td>\n",
       "      <td>0.10430</td>\n",
       "      <td>0.1809</td>\n",
       "      <td>0.05883</td>\n",
       "      <td>0.7572</td>\n",
       "      <td>0.7813</td>\n",
       "      <td>5.438</td>\n",
       "      <td>94.44</td>\n",
       "      <td>0.1625</td>\n",
       "      <td>0.2364</td>\n",
       "      <td>0.07678</td>\n",
       "      <td>0</td>\n",
       "    </tr>\n",
       "  </tbody>\n",
       "</table>\n",
       "</div>"
      ],
      "text/plain": [
       "       A      B       C       D        E        F       G        H       I  \\\n",
       "0  17.99  10.38  122.80  1001.0  0.11840  0.27760  0.3001  0.14710  0.2419   \n",
       "1  20.57  17.77  132.90  1326.0  0.08474  0.07864  0.0869  0.07017  0.1812   \n",
       "2  19.69  21.25  130.00  1203.0  0.10960  0.15990  0.1974  0.12790  0.2069   \n",
       "3  11.42  20.38   77.58   386.1  0.14250  0.28390  0.2414  0.10520  0.2597   \n",
       "4  20.29  14.34  135.10  1297.0  0.10030  0.13280  0.1980  0.10430  0.1809   \n",
       "\n",
       "         J       K       L      M       N       O       P        Q  Res  \n",
       "0  0.07871  1.0950  0.9053  8.589  153.40  0.2654  0.4601  0.11890    0  \n",
       "1  0.05667  0.5435  0.7339  3.398   74.08  0.1860  0.2750  0.08902    0  \n",
       "2  0.05999  0.7456  0.7869  4.585   94.03  0.2430  0.3613  0.08758    0  \n",
       "3  0.09744  0.4956  1.1560  3.445   27.23  0.2575  0.6638  0.17300    0  \n",
       "4  0.05883  0.7572  0.7813  5.438   94.44  0.1625  0.2364  0.07678    0  "
      ]
     },
     "execution_count": 3,
     "metadata": {},
     "output_type": "execute_result"
    }
   ],
   "source": [
    "df.head()"
   ]
  },
  {
   "cell_type": "markdown",
   "metadata": {},
   "source": [
    "Define the features and target var (X, y)"
   ]
  },
  {
   "cell_type": "code",
   "execution_count": 4,
   "metadata": {},
   "outputs": [],
   "source": [
    "X = df.drop('Res',axis=1)\n",
    "y = df['Res']"
   ]
  },
  {
   "cell_type": "markdown",
   "metadata": {},
   "source": [
    "Split the data"
   ]
  },
  {
   "cell_type": "code",
   "execution_count": 5,
   "metadata": {},
   "outputs": [],
   "source": [
    "from sklearn.model_selection import train_test_split\n",
    "X_train, X_test, y_train, y_test = train_test_split(X, y)"
   ]
  },
  {
   "cell_type": "markdown",
   "metadata": {},
   "source": [
    "Use MLPClassifier to define a neural network with one hidden layer with size 10 "
   ]
  },
  {
   "cell_type": "code",
   "execution_count": 6,
   "metadata": {},
   "outputs": [],
   "source": [
    "from sklearn.neural_network import MLPClassifier"
   ]
  },
  {
   "cell_type": "code",
   "execution_count": 17,
   "metadata": {},
   "outputs": [],
   "source": [
    "mlp = MLPClassifier(hidden_layer_sizes=(10,10,10),max_iter=10000)"
   ]
  },
  {
   "cell_type": "markdown",
   "metadata": {},
   "source": [
    "Train the network (fit)"
   ]
  },
  {
   "cell_type": "code",
   "execution_count": 33,
   "metadata": {},
   "outputs": [
    {
     "data": {
      "text/plain": [
       "MLPClassifier(activation='relu', alpha=0.0001, batch_size='auto', beta_1=0.9,\n",
       "       beta_2=0.999, early_stopping=False, epsilon=1e-08,\n",
       "       hidden_layer_sizes=(10, 10, 10), learning_rate='constant',\n",
       "       learning_rate_init=0.001, max_iter=10000, momentum=0.9,\n",
       "       nesterovs_momentum=True, power_t=0.5, random_state=None,\n",
       "       shuffle=True, solver='adam', tol=0.0001, validation_fraction=0.1,\n",
       "       verbose=False, warm_start=False)"
      ]
     },
     "execution_count": 33,
     "metadata": {},
     "output_type": "execute_result"
    }
   ],
   "source": [
    "mlp.fit(X_train,y_train)"
   ]
  },
  {
   "cell_type": "markdown",
   "metadata": {},
   "source": [
    "Test the model"
   ]
  },
  {
   "cell_type": "code",
   "execution_count": 34,
   "metadata": {},
   "outputs": [],
   "source": [
    "predictions = mlp.predict(X_test)"
   ]
  },
  {
   "cell_type": "markdown",
   "metadata": {},
   "source": [
    "Create classification report and confusion matrix"
   ]
  },
  {
   "cell_type": "code",
   "execution_count": 35,
   "metadata": {},
   "outputs": [
    {
     "name": "stdout",
     "output_type": "stream",
     "text": [
      "[[51  3]\n",
      " [ 3 86]]\n"
     ]
    }
   ],
   "source": [
    "from sklearn.metrics import classification_report,confusion_matrix\n",
    "print(confusion_matrix(y_test,predictions))"
   ]
  },
  {
   "cell_type": "code",
   "execution_count": 30,
   "metadata": {},
   "outputs": [
    {
     "name": "stdout",
     "output_type": "stream",
     "text": [
      "             precision    recall  f1-score   support\n",
      "\n",
      "          0       0.36      0.44      0.40        54\n",
      "          1       0.61      0.52      0.56        89\n",
      "\n",
      "avg / total       0.51      0.49      0.50       143\n",
      "\n"
     ]
    }
   ],
   "source": [
    "print(classification_report(y_test,predictions))"
   ]
  },
  {
   "cell_type": "markdown",
   "metadata": {},
   "source": [
    "Display network weights (coefs_)"
   ]
  },
  {
   "cell_type": "code",
   "execution_count": 31,
   "metadata": {},
   "outputs": [
    {
     "data": {
      "text/plain": [
       "[array([[-0.06614234, -0.2793906 , -0.20925508, -0.29275678, -0.38010149,\n",
       "         -0.24082713,  0.41285511, -0.48293611, -0.33970557, -0.42459089],\n",
       "        [ 0.45668452,  0.14995869,  0.34220717, -0.3928873 , -0.13037677,\n",
       "          0.03900251, -0.13413339, -0.47535102,  0.22216287, -0.12664264],\n",
       "        [-0.28248018,  0.08803114,  0.48283079, -0.11841649, -0.00116034,\n",
       "          0.12498454, -0.29614398,  0.31941675, -0.33219381, -0.2445634 ],\n",
       "        [ 0.05676823,  0.15132826,  0.24094834, -0.35815   ,  0.02869375,\n",
       "          0.02480629, -0.4408896 ,  0.07220591,  0.07227385, -0.41343002],\n",
       "        [-0.1599828 , -0.07783459, -0.43985916,  0.09009571,  0.08084504,\n",
       "          0.17048552, -0.03003702,  0.22632979,  0.46811566, -0.03095114],\n",
       "        [-0.08771724,  0.41106968, -0.33699399,  0.08127703,  0.3050816 ,\n",
       "          0.37979449, -0.36010312, -0.21762062, -0.29804377,  0.32023977],\n",
       "        [ 0.03345799, -0.27402509,  0.42842969, -0.39545795,  0.3104948 ,\n",
       "         -0.34432926,  0.20767871,  0.23404338, -0.23618405, -0.21913215],\n",
       "        [ 0.1805791 , -0.21517098,  0.33724359,  0.16152226, -0.12833133,\n",
       "          0.18363928, -0.38667672, -0.21520413,  0.10489385,  0.27692747],\n",
       "        [-0.10655995, -0.03446704,  0.33685511, -0.37408929, -0.25467075,\n",
       "          0.34735031, -0.27269088, -0.30071339,  0.12047062,  0.45050004],\n",
       "        [ 0.32662628,  0.27452602, -0.14306943,  0.37131211,  0.15145193,\n",
       "          0.20685232, -0.12840307, -0.17595848,  0.42784377, -0.06652884],\n",
       "        [-0.26038793,  0.29603375,  0.1005804 , -0.08121295,  0.01615793,\n",
       "          0.29211489, -0.44072188,  0.17647156,  0.33438271,  0.37999461],\n",
       "        [ 0.33709832,  0.37764512, -0.08619479,  0.24717272,  0.26368511,\n",
       "          0.37828416, -0.43916655,  0.12933758, -0.04171591, -0.07854866],\n",
       "        [-0.32762427, -0.25464166, -0.4524869 , -0.20798408, -0.05955981,\n",
       "          0.43715048, -0.21198899, -0.43402279,  0.00549319,  0.02548341],\n",
       "        [-0.05239176, -0.30216885, -0.38542695, -0.14405534,  0.260546  ,\n",
       "          0.32238266, -0.25530253,  0.21768062,  0.14738926,  0.07438852],\n",
       "        [ 0.13497982, -0.28140142, -0.28110387,  0.24155757, -0.44841951,\n",
       "         -0.3906733 ,  0.04350012,  0.33268851, -0.26734648, -0.32466962],\n",
       "        [-0.45018679,  0.31424771, -0.09140448,  0.28386524, -0.42855432,\n",
       "          0.27459779, -0.15385046,  0.40929621, -0.35873249,  0.42053503],\n",
       "        [ 0.44355097, -0.47680519,  0.19410775,  0.21507353,  0.25332327,\n",
       "          0.26838589, -0.23007201,  0.35079099,  0.39111791, -0.14284953]]),\n",
       " array([[-0.18839048, -0.48762215, -0.05034174,  0.31360354,  0.17493324,\n",
       "          0.04887871,  0.49060666, -0.39447184, -0.25741404, -0.22353486],\n",
       "        [-0.01540318, -0.30445953, -0.26520653, -0.05689902,  0.08738154,\n",
       "          0.52467833, -0.38520168,  0.36886304, -0.42684256, -0.21258184],\n",
       "        [ 0.41556698,  0.31326755,  0.50149662,  0.08441677,  0.50722845,\n",
       "          0.43220917, -0.02708693,  0.471619  ,  0.47688321,  0.48702988],\n",
       "        [ 0.08768883, -0.25793458, -0.19767647,  0.15946568, -0.04068466,\n",
       "          0.49318466, -0.5093801 ,  0.00653746, -0.24450801, -0.44419057],\n",
       "        [-0.17878195, -0.04015969, -0.02367894,  0.55061749, -0.20326084,\n",
       "         -0.17313344, -0.48924684,  0.04452784,  0.13026784,  0.06706589],\n",
       "        [-0.32610099, -0.24562065, -0.03601176,  0.0884484 , -0.39529552,\n",
       "         -0.47607415, -0.44537333,  0.06010933,  0.10815949,  0.01365896],\n",
       "        [ 0.42146365, -0.00604807, -0.1117049 ,  0.43181056, -0.35821902,\n",
       "          0.30268418,  0.25082764, -0.4780221 ,  0.29695797, -0.41152066],\n",
       "        [ 0.18752043, -0.29617292, -0.49009763,  0.28843117, -0.49521633,\n",
       "          0.1264199 ,  0.04619945,  0.23253519,  0.36551135,  0.38674757],\n",
       "        [ 0.2677869 , -0.11933585, -0.02954719,  0.43630366,  0.33311455,\n",
       "          0.517972  ,  0.20901489, -0.31953186,  0.26198497, -0.15914919],\n",
       "        [-0.4538368 ,  0.23166372, -0.36323883, -0.17398045,  0.17409666,\n",
       "          0.23538933,  0.19496064, -0.11506533,  0.26992443,  0.16453214]]),\n",
       " array([[-0.20931438,  0.14678273,  0.23063479, -0.10755453, -0.11785734,\n",
       "          0.37773004,  0.52659502,  0.1136226 , -0.13309573, -0.42935579],\n",
       "        [-0.16338799,  0.1707507 , -0.20642262,  0.09672945, -0.03349861,\n",
       "          0.15337073,  0.32098289, -0.43713323, -0.37142973, -0.29433232],\n",
       "        [ 0.46387374,  0.43528963, -0.11218921,  0.32923179, -0.02729758,\n",
       "          0.23546811, -0.17908193, -0.12217274, -0.01223572,  0.19904052],\n",
       "        [ 0.10176822,  0.35054063,  0.00893948, -0.17284008, -0.43522059,\n",
       "          0.38896069,  0.5229242 , -0.04183688, -0.04473311, -0.09462399],\n",
       "        [ 0.32069117, -0.41513021, -0.24032453, -0.459594  ,  0.39439815,\n",
       "          0.4510715 ,  0.56056027, -0.2262202 , -0.00498269, -0.31345074],\n",
       "        [ 0.51674358,  0.11724079,  0.41287633, -0.06794206, -0.45581769,\n",
       "         -0.2321122 , -0.35774172, -0.01229304, -0.41583992, -0.21066255],\n",
       "        [-0.10518592, -0.4664623 ,  0.20590733,  0.42716509,  0.45695673,\n",
       "         -0.42716823, -0.3395709 ,  0.31644439,  0.4859871 , -0.21014139],\n",
       "        [ 0.50184697,  0.07015265,  0.44658468, -0.28313929,  0.19606852,\n",
       "         -0.31267351,  0.48250577,  0.43206098, -0.39339043, -0.47618808],\n",
       "        [-0.49383501, -0.2304439 , -0.50698168, -0.2384348 ,  0.09885526,\n",
       "          0.46642732,  0.44915219,  0.18386536,  0.19760709, -0.05446783],\n",
       "        [-0.31931209,  0.50718922, -0.16321252,  0.35443066, -0.00243049,\n",
       "         -0.2897656 , -0.27862833,  0.14194536, -0.38984496,  0.10575722]]),\n",
       " array([[ 0.64407271],\n",
       "        [-0.47346701],\n",
       "        [-0.71148731],\n",
       "        [-0.02068806],\n",
       "        [-0.70928028],\n",
       "        [ 0.19724817],\n",
       "        [ 0.49093591],\n",
       "        [-0.69967107],\n",
       "        [-0.12321355],\n",
       "        [ 0.56363605]])]"
      ]
     },
     "execution_count": 31,
     "metadata": {},
     "output_type": "execute_result"
    }
   ],
   "source": [
    "mlp.coefs_"
   ]
  },
  {
   "cell_type": "markdown",
   "metadata": {},
   "source": [
    "Change Network structure to improve the results<br>\n",
    "* add layers\n",
    "* add neurons\n",
    "* add more iterations"
   ]
  },
  {
   "cell_type": "markdown",
   "metadata": {},
   "source": [
    "# using StandardScalar"
   ]
  },
  {
   "cell_type": "markdown",
   "metadata": {},
   "source": [
    "Scale the data using the standard scalar:<br>\n",
    "* fit X train data\n",
    "* transform X train and test"
   ]
  },
  {
   "cell_type": "code",
   "execution_count": 32,
   "metadata": {},
   "outputs": [],
   "source": [
    "from sklearn.preprocessing import StandardScaler\n",
    "scaler = StandardScaler()\n",
    "scaler.fit(X_train)\n",
    "X_train = scaler.transform(X_train)\n",
    "X_test = scaler.transform(X_test)"
   ]
  },
  {
   "cell_type": "markdown",
   "metadata": {},
   "source": [
    "Now test the results"
   ]
  },
  {
   "cell_type": "code",
   "execution_count": null,
   "metadata": {},
   "outputs": [],
   "source": []
  }
 ],
 "metadata": {
  "kernelspec": {
   "display_name": "Python 3",
   "language": "python",
   "name": "python3"
  },
  "language_info": {
   "codemirror_mode": {
    "name": "ipython",
    "version": 3
   },
   "file_extension": ".py",
   "mimetype": "text/x-python",
   "name": "python",
   "nbconvert_exporter": "python",
   "pygments_lexer": "ipython3",
   "version": "3.6.4"
  }
 },
 "nbformat": 4,
 "nbformat_minor": 2
}
